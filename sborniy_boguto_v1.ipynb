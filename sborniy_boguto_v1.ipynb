{
 "cells": [
  {
   "cell_type": "markdown",
   "id": "65938f4c",
   "metadata": {
    "toc": true
   },
   "source": [
    "<h1>Table of Contents<span class=\"tocSkip\"></span></h1>\n",
    "<div class=\"toc\"><ul class=\"toc-item\"><li><span><a href=\"#Описание-проекта\" data-toc-modified-id=\"Описание-проекта-1\"><span class=\"toc-item-num\">1&nbsp;&nbsp;</span>Описание проекта</a></span></li><li><span><a href=\"#План-проекта\" data-toc-modified-id=\"План-проекта-2\"><span class=\"toc-item-num\">2&nbsp;&nbsp;</span>План проекта</a></span></li><li><span><a href=\"#Загрузка-и-импорт-библиотек\" data-toc-modified-id=\"Загрузка-и-импорт-библиотек-3\"><span class=\"toc-item-num\">3&nbsp;&nbsp;</span>Загрузка и импорт библиотек</a></span></li><li><span><a href=\"#Первый-этап:-загрузка-данных-из-таблиц\" data-toc-modified-id=\"Первый-этап:-загрузка-данных-из-таблиц-4\"><span class=\"toc-item-num\">4&nbsp;&nbsp;</span>Первый этап: загрузка данных из таблиц</a></span></li></ul></div>"
   ]
  },
  {
   "cell_type": "markdown",
   "id": "f7207688",
   "metadata": {},
   "source": [
    "# Сборный проект 3, 4"
   ]
  },
  {
   "cell_type": "markdown",
   "id": "d2d18542",
   "metadata": {},
   "source": [
    "## Описание проекта"
   ]
  },
  {
   "cell_type": "markdown",
   "id": "987f5765",
   "metadata": {},
   "source": [
    "В этом проекте мы пытаемся создать систему, которая могла бы оценить риск ДТП по выбранному маршруту движения. Под риском понимается вероятность ДТП с любым повреждением транспортного средства. Как только водитель забронировал автомобиль, сел за руль и выбрал маршрут, система должна оценить уровень риска. Если уровень риска высок, водитель увидит предупреждение и рекомендации по маршруту.\n",
    "\n",
    "Идея создания такой системы находится в стадии предварительного обсуждения и проработки. Чёткого алгоритма работы и подобных решений на рынке ещё не существует. Текущая задача — понять, возможно ли предсказывать ДТП, опираясь на исторические данные одного из регионов.\n",
    "\n",
    "Заказчик предалагет следующие шаги:\n",
    "1. Создать модель предсказания ДТП (целевое значение — at_fault (виновник) в таблице parties)\n",
    "- a. Для модели выбрать тип виновника — только машина (car).\n",
    "- b. Выбрать случаи, когда ДТП привело к любым повреждениям транспортного средства, кроме типа SCRATCH (царапина).\n",
    "- c. Для моделирования ограничиться данными за 2012 год — они самые свежие.\n",
    "- d. Обязательное условие — учесть фактор возраста автомобиля.\n",
    "\n",
    "2. На основе модели исследовать основные факторы ДТП.\n",
    "\n",
    "\n",
    "3. Понять, помогут ли результаты моделирования и анализ важности факторов ответить на вопросы:\n",
    "- a. Возможно ли создать адекватную системы оценки водительского риска при выдаче авто?\n",
    "- b. Какие ещё факторы нужно учесть?\n",
    "- c. Нужно ли оборудовать автомобиль какими-либо датчиками или камерой?"
   ]
  },
  {
   "cell_type": "markdown",
   "id": "3df4e85f",
   "metadata": {},
   "source": [
    "## План проекта"
   ]
  },
  {
   "cell_type": "markdown",
   "id": "f1b3f8c2",
   "metadata": {},
   "source": [
    "**Первый этап**: загрузить таблицы sql, подключившись к базе.\n",
    "\n",
    "**Второй этап**: произвести первичное исследование таблиц, используя sql-запросы.\n",
    "- Проверить, все ли таблицы имеют набор данных\n",
    "- Проверить, соответствует ли количество таблиц условию задачи\n",
    "- Проверить, имеется ли общий ключ для связи таблиц.\n",
    "\n",
    "**Третий этап:** произвести статистический анализ факторов ДТП.\n",
    "1. Выяснить, в какие месяцы происходит наибольшее количество аварий, проанализировав весь период наблюдений.\n",
    "- необходимо создать sql-Запрос\n",
    "- построить график\n",
    "- сделать вывод.\n",
    "2. Создать несколько (не менее шести) аналитических задач для гипотетических коллег, связанных с данными.\n",
    "Примеры задач:\n",
    "- Проведите анализ серьёзности повреждений транспортного средства, исходя из состояния дороги в момент ДТП (связать collisions и parties);\n",
    "- Найдите самые частые причины ДТП (таблица parties).\n",
    "\n",
    "Прописать порядок решения и реализовать его для двух задач из списка. Решение задач должно включать в себя связь не менее двух таблиц, а ответ должен быть визуализирован, и содержать вывод.\n",
    "\n",
    "**Четвертый этап:** создать модель для оценки водительского риска.\n",
    "1. Подготовить набор данных на основе первичного предположения заказчика:\n",
    "- тип виновника - только машина (car)\n",
    "- использовать случаи, когда ДТП привело к любым значимым повреждениям автомобиля любого из участников — все, кроме типа SCRATCH (царапина)\n",
    "- для моделирования использовать данные только за 2012 год.\n",
    "- Подготовка исходной таблицы должна проводиться с помощью sql-запроса.\n",
    "\n",
    "2. Провести первичный отбор факторов, необходимых для модели. Отобрать те, что могут влиять на вероятность ДТП, и аргументировать свой выбор.\n",
    "\n",
    "3. Провести статистическое исследование отобранных факторов:\n",
    "- если необходимо, внести корректировки в данные по результатам исследовательского анализа. Написать вывод.\n",
    "- если необходимо, то категоризировать исходные данные, произвести масштабирование.\n",
    "- подготовить обучающую и тестовую выборки.\n",
    "\n",
    "**Пятый этап:** поиск лучшей модели.\n",
    "\n",
    "1. Использовать в работе не менее трех типов моделей с перебором гиперпараметров.\n",
    "2. Выбрать метрика для оценки модели, исходя из поставленной бизнесом задачи. Обосновать свой выбор.\n",
    "3. Оформить вывод в виде сравнительной таблицы.\n",
    "\n",
    "**Шестой этап:** проверка лучшей модели в работе.\n",
    "1. Произвести графический анализ \"Матрица ошибок\". Вывести значения \"полноты\" и \"точности\" на график.\n",
    "2. Проанализировать важность основных факторов, влияющих на вероятность ДТП.\n",
    "3. Для одного из выявленных важных факторов провести дополнительное исследование:\n",
    "- создать график зависимости целевой переменной и фактора;\n",
    "- предложить, чем можно оборудовать автомобиль, чтобы учесть этот фактор во время посадки водителя.\n",
    "\n",
    "**Седьмой этап:** общий вывод о модели.\n",
    "- кратко описать лучшую модель;\n",
    "- описать, насколько возможно создание адекватнойсистемы оценки риска при выдаче авто;\n",
    "- какие еще факторы необходимо собирать, чтобы улучшить модель."
   ]
  },
  {
   "cell_type": "markdown",
   "id": "0db7f5c7",
   "metadata": {},
   "source": [
    "## Загрузка и импорт библиотек"
   ]
  },
  {
   "cell_type": "code",
   "execution_count": 3,
   "id": "18582582",
   "metadata": {},
   "outputs": [],
   "source": [
    "# установим библиотеку для sql\n",
    "\n",
    "!pip install sqlalchemy -q"
   ]
  },
  {
   "cell_type": "code",
   "execution_count": 11,
   "id": "cdbfc371",
   "metadata": {},
   "outputs": [],
   "source": [
    "# библиотеку, возможно, придется установить\n",
    "\n",
    "!pip install missingno -q"
   ]
  },
  {
   "cell_type": "code",
   "execution_count": null,
   "id": "3b0f43f7",
   "metadata": {},
   "outputs": [],
   "source": []
  },
  {
   "cell_type": "code",
   "execution_count": 12,
   "id": "518b70ff",
   "metadata": {},
   "outputs": [],
   "source": [
    "# импортируем библиотеки\n",
    "\n",
    "import pandas as pd\n",
    "import matplotlib.pyplot as plt\n",
    "import seaborn as sns\n",
    "import missingno as msno\n",
    "\n",
    "# импортируем методы\n",
    "\n",
    "from sqlalchemy import create_engine "
   ]
  },
  {
   "cell_type": "markdown",
   "id": "86acc45c",
   "metadata": {},
   "source": [
    "## Первый этап: загрузка данных из таблиц"
   ]
  },
  {
   "cell_type": "code",
   "execution_count": 5,
   "id": "ce362481",
   "metadata": {},
   "outputs": [],
   "source": [
    "# вводим данные для подключения к базе\n",
    "\n",
    "db_config = {\n",
    "'user': 'praktikum_student', # имя пользователя,\n",
    "'pwd': 'Sdf4$2;d-d30pp', # пароль,\n",
    "'host': 'rc1b-wcoijxj3yxfsf3fs.mdb.yandexcloud.net',\n",
    "'port': 6432, # порт подключения,\n",
    "'db': 'data-science-vehicle-db' # название базы данных,\n",
    "}"
   ]
  },
  {
   "cell_type": "code",
   "execution_count": 6,
   "id": "11fb3926",
   "metadata": {},
   "outputs": [],
   "source": [
    "# создаем строку с данными и формируем \"движитель\"\n",
    "\n",
    "connection_string = 'postgresql://{}:{}@{}:{}/{}'.format(\n",
    "    db_config['user'],\n",
    "    db_config['pwd'],\n",
    "    db_config['host'],\n",
    "    db_config['port'],\n",
    "    db_config['db'],\n",
    ") \n",
    "\n",
    "engine = create_engine(connection_string) "
   ]
  },
  {
   "cell_type": "code",
   "execution_count": 7,
   "id": "90fca727",
   "metadata": {},
   "outputs": [],
   "source": [
    "# создаем запрос на первую таблицу с данными об авто и формируем на ее основе датафрейм\n",
    "\n",
    "query_df_vehicles = '''\n",
    "SELECT *\n",
    "FROM vehicles;\n",
    "'''\n",
    "\n",
    "df_vehicles = pd.read_sql_query(query_df_vehicles, con= engine)"
   ]
  },
  {
   "cell_type": "code",
   "execution_count": 17,
   "id": "cc795dfe",
   "metadata": {},
   "outputs": [],
   "source": [
    "# создаем запрос на вторую таблицу с данными и формируем на ее основе датафрейм\n",
    "\n",
    "query_df_collisions = '''\n",
    "SELECT *\n",
    "FROM collisions;\n",
    "'''\n",
    "\n",
    "df_collisions = pd.read_sql_query(query_df_collisions, con= engine)"
   ]
  },
  {
   "cell_type": "code",
   "execution_count": 16,
   "id": "55444600",
   "metadata": {},
   "outputs": [],
   "source": [
    "# создаем запрос на третью таблицу с данными и формируем на ее основе датафрейм\n",
    "\n",
    "query_df_parties = '''\n",
    "SELECT *\n",
    "FROM parties;\n",
    "'''\n",
    "\n",
    "df_parties = pd.read_sql_query(query_df_parties, con= engine)"
   ]
  },
  {
   "cell_type": "code",
   "execution_count": 18,
   "id": "63d7089b",
   "metadata": {},
   "outputs": [],
   "source": [
    "# сохраняю локально на случай нестабильного соединения\n",
    "\n",
    "df_vehicles.to_csv('df_vehicles.csv', index=False) \n",
    "\n",
    "df_collisions.to_csv('df_collisions.csv', index=False)\n",
    "\n",
    "df_parties.to_csv('df_parties.csv', index=False)"
   ]
  },
  {
   "cell_type": "code",
   "execution_count": null,
   "id": "7a307836",
   "metadata": {},
   "outputs": [],
   "source": []
  },
  {
   "cell_type": "code",
   "execution_count": null,
   "id": "6a4670b0",
   "metadata": {},
   "outputs": [],
   "source": []
  },
  {
   "cell_type": "code",
   "execution_count": null,
   "id": "587bcdb7",
   "metadata": {},
   "outputs": [],
   "source": []
  },
  {
   "cell_type": "code",
   "execution_count": null,
   "id": "9e0c79b0",
   "metadata": {},
   "outputs": [],
   "source": []
  },
  {
   "cell_type": "code",
   "execution_count": null,
   "id": "4427a2c3",
   "metadata": {},
   "outputs": [],
   "source": []
  },
  {
   "cell_type": "code",
   "execution_count": null,
   "id": "350d98b4",
   "metadata": {},
   "outputs": [],
   "source": []
  },
  {
   "cell_type": "code",
   "execution_count": null,
   "id": "6e0b619f",
   "metadata": {},
   "outputs": [],
   "source": []
  },
  {
   "cell_type": "code",
   "execution_count": 9,
   "id": "49ba49dc",
   "metadata": {},
   "outputs": [
    {
     "name": "stdout",
     "output_type": "stream",
     "text": [
      "<class 'pandas.core.frame.DataFrame'>\n",
      "RangeIndex: 1021234 entries, 0 to 1021233\n",
      "Data columns (total 6 columns):\n",
      " #   Column                Non-Null Count    Dtype  \n",
      "---  ------                --------------    -----  \n",
      " 0   id                    1021234 non-null  int64  \n",
      " 1   case_id               1021234 non-null  object \n",
      " 2   party_number          1021234 non-null  int64  \n",
      " 3   vehicle_type          1021234 non-null  object \n",
      " 4   vehicle_transmission  997575 non-null   object \n",
      " 5   vehicle_age           996652 non-null   float64\n",
      "dtypes: float64(1), int64(2), object(3)\n",
      "memory usage: 46.7+ MB\n"
     ]
    }
   ],
   "source": [
    "# посмотрим данные о таблице\n",
    "\n",
    "df_vehicles.info()"
   ]
  },
  {
   "cell_type": "code",
   "execution_count": null,
   "id": "d2cd58a0",
   "metadata": {},
   "outputs": [],
   "source": []
  },
  {
   "cell_type": "code",
   "execution_count": null,
   "id": "3f672e3e",
   "metadata": {},
   "outputs": [],
   "source": []
  },
  {
   "cell_type": "code",
   "execution_count": null,
   "id": "0c594f84",
   "metadata": {},
   "outputs": [],
   "source": []
  },
  {
   "cell_type": "code",
   "execution_count": null,
   "id": "23349ce6",
   "metadata": {},
   "outputs": [],
   "source": []
  },
  {
   "cell_type": "code",
   "execution_count": 13,
   "id": "27a4b6be",
   "metadata": {},
   "outputs": [
    {
     "data": {
      "image/png": "[encoded data removed]",
      "text/plain": [
       "<Figure size 2500x1000 with 2 Axes>"
      ]
     },
     "metadata": {},
     "output_type": "display_data"
    }
   ],
   "source": [
    "# изучим пропуски в первом файле\n",
    "\n",
    "msno.matrix(df_vehicles);"
   ]
  },
  {
   "cell_type": "markdown",
   "id": "c683867d",
   "metadata": {},
   "source": [
    "\n"
   ]
  },
  {
   "cell_type": "code",
   "execution_count": null,
   "id": "9a1d517c",
   "metadata": {},
   "outputs": [],
   "source": []
  },
  {
   "cell_type": "code",
   "execution_count": null,
   "id": "dc08ef5f",
   "metadata": {},
   "outputs": [],
   "source": []
  },
  {
   "cell_type": "code",
   "execution_count": null,
   "id": "fbef7e4b",
   "metadata": {},
   "outputs": [],
   "source": []
  },
  {
   "cell_type": "code",
   "execution_count": null,
   "id": "dad2b735",
   "metadata": {},
   "outputs": [],
   "source": []
  },
  {
   "cell_type": "code",
   "execution_count": null,
   "id": "5ae434f8",
   "metadata": {},
   "outputs": [],
   "source": []
  },
  {
   "cell_type": "code",
   "execution_count": null,
   "id": "c6de1fe6",
   "metadata": {},
   "outputs": [],
   "source": []
  },
  {
   "cell_type": "code",
   "execution_count": null,
   "id": "e4467f92",
   "metadata": {},
   "outputs": [],
   "source": []
  },
  {
   "cell_type": "code",
   "execution_count": null,
   "id": "90936e23",
   "metadata": {},
   "outputs": [],
   "source": []
  },
  {
   "cell_type": "code",
   "execution_count": null,
   "id": "6f921eeb",
   "metadata": {},
   "outputs": [],
   "source": []
  },
  {
   "cell_type": "code",
   "execution_count": null,
   "id": "1f1904ce",
   "metadata": {},
   "outputs": [],
   "source": []
  },
  {
   "cell_type": "code",
   "execution_count": null,
   "id": "498e046d",
   "metadata": {},
   "outputs": [],
   "source": []
  },
  {
   "cell_type": "code",
   "execution_count": null,
   "id": "64bb70d2",
   "metadata": {},
   "outputs": [],
   "source": []
  },
  {
   "cell_type": "code",
   "execution_count": null,
   "id": "b4b413cc",
   "metadata": {},
   "outputs": [],
   "source": []
  },
  {
   "cell_type": "code",
   "execution_count": null,
   "id": "c82e6389",
   "metadata": {},
   "outputs": [],
   "source": []
  },
  {
   "cell_type": "code",
   "execution_count": null,
   "id": "cac0394a",
   "metadata": {},
   "outputs": [],
   "source": []
  },
  {
   "cell_type": "code",
   "execution_count": null,
   "id": "9c00edbe",
   "metadata": {},
   "outputs": [],
   "source": []
  },
  {
   "cell_type": "code",
   "execution_count": null,
   "id": "4077abdb",
   "metadata": {},
   "outputs": [],
   "source": []
  },
  {
   "cell_type": "code",
   "execution_count": null,
   "id": "8f2cb6aa",
   "metadata": {},
   "outputs": [],
   "source": []
  },
  {
   "cell_type": "code",
   "execution_count": null,
   "id": "10bb0598",
   "metadata": {},
   "outputs": [],
   "source": []
  },
  {
   "cell_type": "code",
   "execution_count": null,
   "id": "98e0ebce",
   "metadata": {},
   "outputs": [],
   "source": []
  },
  {
   "cell_type": "code",
   "execution_count": null,
   "id": "a9d595ba",
   "metadata": {},
   "outputs": [],
   "source": []
  },
  {
   "cell_type": "code",
   "execution_count": null,
   "id": "09f08cd3",
   "metadata": {},
   "outputs": [],
   "source": []
  },
  {
   "cell_type": "code",
   "execution_count": null,
   "id": "35253e65",
   "metadata": {},
   "outputs": [],
   "source": []
  },
  {
   "cell_type": "code",
   "execution_count": null,
   "id": "a7fb06e1",
   "metadata": {},
   "outputs": [],
   "source": []
  }
 ],
 "metadata": {
  "kernelspec": {
   "display_name": "Python 3 (ipykernel)",
   "language": "python",
   "name": "python3"
  },
  "language_info": {
   "codemirror_mode": {
    "name": "ipython",
    "version": 3
   },
   "file_extension": ".py",
   "mimetype": "text/x-python",
   "name": "python",
   "nbconvert_exporter": "python",
   "pygments_lexer": "ipython3",
   "version": "3.9.18"
  },
  "toc": {
   "base_numbering": 1,
   "nav_menu": {
    "height": "188px",
    "width": "261px"
   },
   "number_sections": true,
   "sideBar": true,
   "skip_h1_title": true,
   "title_cell": "Table of Contents",
   "title_sidebar": "Contents",
   "toc_cell": true,
   "toc_position": {
    "height": "calc(100% - 180px)",
    "left": "10px",
    "top": "150px",
    "width": "384px"
   },
   "toc_section_display": true,
   "toc_window_display": true
  },
  "varInspector": {
   "cols": {
    "lenName": 16,
    "lenType": 16,
    "lenVar": 40
   },
   "kernels_config": {
    "python": {
     "delete_cmd_postfix": "",
     "delete_cmd_prefix": "del ",
     "library": "var_list.py",
     "varRefreshCmd": "print(var_dic_list())"
    },
    "r": {
     "delete_cmd_postfix": ") ",
     "delete_cmd_prefix": "rm(",
     "library": "var_list.r",
     "varRefreshCmd": "cat(var_dic_list()) "
    }
   },
   "types_to_exclude": [
    "module",
    "function",
    "builtin_function_or_method",
    "instance",
    "_Feature"
   ],
   "window_display": false
  }
 },
 "nbformat": 4,
 "nbformat_minor": 5
}
